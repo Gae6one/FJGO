{
 "cells": [
  {
   "cell_type": "markdown",
   "id": "ba4935a8",
   "metadata": {},
   "source": [
    "# FJGO - Finder Job Gae One\n",
    "\n",
    "Prima versione dell'app di ricerca lavoro per Gaetano Luciano."
   ]
  },
  {
   "cell_type": "code",
   "execution_count": null,
   "id": "b6347afb",
   "metadata": {},
   "outputs": [],
   "source": [
    "# Profilo sintetico di Gaetano Luciano\n",
    "profilo_fjgo = {\n",
    "    \"nome\": \"Gaetano Luciano\",\n",
    "    \"località\": \"Uzzano (PT)\",\n",
    "    \"categorie_protette\": True,\n",
    "    \"invalidità\": \"85%\",\n",
    "    \"lingue\": {\n",
    "        \"italiano\": \"madrelingua\",\n",
    "        \"spagnolo\": \"fluente\",\n",
    "        \"inglese\": \"buono\",\n",
    "        \"francese\": \"scolastico\"\n",
    "    },\n",
    "    \"competenze_chiave\": [\n",
    "        \"vendita\", \"formazione commerciale\", \"recupero crediti\", \"gestione team\",\n",
    "        \"assicurazioni\", \"finanza agevolata\", \"soluzioni informatiche\", \"relazioni con clienti\"\n",
    "    ],\n",
    "    \"preferenze\": {\n",
    "        \"remoto\": True,\n",
    "        \"min_stipendio_netti\": 1500,\n",
    "        \"no_ruoli_vocali_esterni\": True,\n",
    "        \"lingua_offerte\": \"italiano\"\n",
    "    }\n",
    "}"
   ]
  },
  {
   "cell_type": "code",
   "execution_count": null,
   "id": "eb596870",
   "metadata": {},
   "outputs": [],
   "source": [
    "# Simulazione offerta di lavoro\n",
    "offerta = {\n",
    "    \"titolo\": \"Commerciale remoto per servizi finanziari\",\n",
    "    \"azienda\": \"FinSoluzioni Srl\",\n",
    "    \"descrizione\": \"Ricerca figura con esperienza nella vendita di servizi alle aziende. Lavoro interamente da remoto. Preferenza per categorie protette.\",\n",
    "    \"richiede_voce\": False,\n",
    "    \"lingua\": \"italiano\",\n",
    "    \"stipendio\": 1600\n",
    "}"
   ]
  },
  {
   "cell_type": "code",
   "execution_count": null,
   "id": "23abc5b1",
   "metadata": {},
   "outputs": [],
   "source": [
    "# Funzione per generare la lettera di candidatura\n",
    "def genera_lettera_candidatura(profilo, offerta):\n",
    "    nome = profilo[\"nome\"]\n",
    "    azienda = offerta[\"azienda\"]\n",
    "    ruolo = offerta[\"titolo\"]\n",
    "    lettera = f\"\"\"Gentile {azienda},\n",
    "\n",
    "mi chiamo {nome} e desidero candidarmi per la posizione \"{ruolo}\" che ho trovato molto in linea con la mia esperienza.\n",
    "Ho oltre 20 anni di esperienza nella vendita e consulenza alle aziende, con particolare focus su credito, assicurazioni e soluzioni IT.\n",
    "Opero esclusivamente da remoto, sono iscritto alle categorie protette (L.68/99) e ho una buona conoscenza del settore finanziario.\n",
    "\n",
    "Rimango a disposizione per un colloquio conoscitivo.\n",
    "\n",
    "Cordiali saluti,\n",
    "{nome}\n",
    "\"\"\"\n",
    "    return lettera\n",
    "\n",
    "lettera = genera_lettera_candidatura(profilo_fjgo, offerta)\n",
    "print(lettera)"
   ]
  }
 ],
 "metadata": {},
 "nbformat": 4,
 "nbformat_minor": 5
}
